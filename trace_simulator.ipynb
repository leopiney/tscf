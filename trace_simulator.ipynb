{
 "cells": [
  {
   "cell_type": "markdown",
   "metadata": {},
   "source": [
    "This is a trace simulator. We first start creating a MAX_TOWERS towers in a "
   ]
  },
  {
   "cell_type": "code",
   "execution_count": 22,
   "metadata": {},
   "outputs": [],
   "source": [
    "import random\n",
    "import math"
   ]
  },
  {
   "cell_type": "markdown",
   "metadata": {},
   "source": [
    "Constants"
   ]
  },
  {
   "cell_type": "code",
   "execution_count": 40,
   "metadata": {},
   "outputs": [],
   "source": [
    "NUMBER_OF_TOWERS = 10\n",
    "NUMBER_OF_USERS = 10\n",
    "CYCLES = 24\n"
   ]
  },
  {
   "cell_type": "code",
   "execution_count": 60,
   "metadata": {},
   "outputs": [],
   "source": [
    "def distance(p1, p2):\n",
    "    return math.sqrt(((p1[0]-p2[0])**2)+((p1[1]-p2[1])**2))\n",
    "\n",
    "def get_random_trace():\n",
    "   return [random.choice([i for i in range(NUMBER_OF_TOWERS)]) for _ in range(CYCLES)]\n",
    "\n",
    "def agregate_data(traces):\n",
    "    \"\"\"\n",
    "        returns how many users were in each step of the cycle based on traces\n",
    "    \"\"\"\n",
    "    output = [[0 for _ in range(CYCLES)] for _ in range(MAX_TOWERS)]\n",
    "    for tower in range(NUMBER_OF_TOWERS):\n",
    "        for time in range(CYCLES):\n",
    "            output[tower][time] += traces[tower][time]\n",
    "    return output"
   ]
  },
  {
   "cell_type": "code",
   "execution_count": 42,
   "metadata": {},
   "outputs": [],
   "source": [
    "towers = []\n",
    "for _ in range(NUMBER_OF_TOWERS):\n",
    "    towers.append((random.random(), random.random()))"
   ]
  },
  {
   "cell_type": "code",
   "execution_count": 52,
   "metadata": {},
   "outputs": [],
   "source": [
    "distances = [[distance(towers[i], towers[j]) for j in range(NUMBER_OF_TOWERS)] for i in range(NUMBER_OF_TOWERS)]\n"
   ]
  },
  {
   "cell_type": "markdown",
   "metadata": {},
   "source": [
    "## random probability"
   ]
  },
  {
   "cell_type": "code",
   "execution_count": 65,
   "metadata": {},
   "outputs": [
    {
     "data": {
      "text/plain": [
       "[[1, 6, 3, 6, 8, 6, 1, 7, 5, 2, 9, 9, 4, 6, 1, 4, 1, 1, 3, 3, 5, 7, 4, 9],\n",
       " [5, 5, 6, 0, 3, 8, 0, 1, 2, 6, 3, 4, 8, 8, 7, 3, 4, 4, 6, 4, 4, 0, 6, 9],\n",
       " [8, 9, 6, 1, 5, 7, 9, 7, 3, 6, 2, 5, 0, 0, 3, 2, 1, 8, 8, 7, 1, 7, 6, 7],\n",
       " [5, 1, 7, 4, 2, 9, 7, 5, 2, 9, 3, 7, 9, 3, 4, 3, 4, 8, 9, 9, 8, 8, 4, 7],\n",
       " [3, 0, 0, 3, 4, 8, 2, 2, 4, 4, 1, 5, 4, 8, 2, 4, 9, 5, 3, 9, 5, 6, 5, 8],\n",
       " [7, 4, 8, 1, 0, 1, 3, 4, 1, 2, 7, 5, 4, 6, 7, 1, 1, 9, 6, 6, 9, 8, 8, 1],\n",
       " [3, 8, 8, 4, 7, 5, 9, 9, 9, 3, 0, 5, 3, 7, 4, 8, 7, 4, 5, 5, 9, 5, 6, 0],\n",
       " [3, 8, 1, 5, 0, 6, 7, 8, 9, 2, 5, 2, 6, 3, 0, 1, 3, 1, 0, 6, 3, 1, 5, 6],\n",
       " [6, 9, 1, 0, 8, 1, 1, 4, 6, 1, 7, 2, 9, 4, 3, 1, 0, 6, 4, 9, 8, 6, 4, 7],\n",
       " [7, 2, 1, 0, 2, 7, 5, 8, 5, 5, 5, 3, 7, 0, 4, 5, 5, 8, 2, 2, 9, 8, 7, 2]]"
      ]
     },
     "execution_count": 65,
     "metadata": {},
     "output_type": "execute_result"
    }
   ],
   "source": [
    "random_traces = [get_random_trace() for _ in range(NUMBER_OF_USERS)]\n",
    "agregated_data = agregate_data(random_traces)\n",
    "random_traces"
   ]
  },
  {
   "cell_type": "code",
   "execution_count": 66,
   "metadata": {},
   "outputs": [
    {
     "data": {
      "text/plain": [
       "[[1, 6, 3, 6, 8, 6, 1, 7, 5, 2, 9, 9, 4, 6, 1, 4, 1, 1, 3, 3, 5, 7, 4, 9],\n",
       " [5, 5, 6, 0, 3, 8, 0, 1, 2, 6, 3, 4, 8, 8, 7, 3, 4, 4, 6, 4, 4, 0, 6, 9],\n",
       " [8, 9, 6, 1, 5, 7, 9, 7, 3, 6, 2, 5, 0, 0, 3, 2, 1, 8, 8, 7, 1, 7, 6, 7],\n",
       " [5, 1, 7, 4, 2, 9, 7, 5, 2, 9, 3, 7, 9, 3, 4, 3, 4, 8, 9, 9, 8, 8, 4, 7],\n",
       " [3, 0, 0, 3, 4, 8, 2, 2, 4, 4, 1, 5, 4, 8, 2, 4, 9, 5, 3, 9, 5, 6, 5, 8],\n",
       " [7, 4, 8, 1, 0, 1, 3, 4, 1, 2, 7, 5, 4, 6, 7, 1, 1, 9, 6, 6, 9, 8, 8, 1],\n",
       " [3, 8, 8, 4, 7, 5, 9, 9, 9, 3, 0, 5, 3, 7, 4, 8, 7, 4, 5, 5, 9, 5, 6, 0],\n",
       " [3, 8, 1, 5, 0, 6, 7, 8, 9, 2, 5, 2, 6, 3, 0, 1, 3, 1, 0, 6, 3, 1, 5, 6],\n",
       " [6, 9, 1, 0, 8, 1, 1, 4, 6, 1, 7, 2, 9, 4, 3, 1, 0, 6, 4, 9, 8, 6, 4, 7],\n",
       " [7, 2, 1, 0, 2, 7, 5, 8, 5, 5, 5, 3, 7, 0, 4, 5, 5, 8, 2, 2, 9, 8, 7, 2]]"
      ]
     },
     "execution_count": 66,
     "metadata": {},
     "output_type": "execute_result"
    }
   ],
   "source": [
    "agregated_data"
   ]
  },
  {
   "cell_type": "markdown",
   "metadata": {},
   "source": [
    "## weigted probability, based only on distance"
   ]
  },
  {
   "cell_type": "raw",
   "metadata": {},
   "source": [
    "\n",
    "\n"
   ]
  }
 ],
 "metadata": {
  "kernelspec": {
   "display_name": "Python 3",
   "language": "python",
   "name": "python3"
  },
  "language_info": {
   "codemirror_mode": {
    "name": "ipython",
    "version": 3
   },
   "file_extension": ".py",
   "mimetype": "text/x-python",
   "name": "python",
   "nbconvert_exporter": "python",
   "pygments_lexer": "ipython3",
   "version": "3.6.4"
  }
 },
 "nbformat": 4,
 "nbformat_minor": 2
}
