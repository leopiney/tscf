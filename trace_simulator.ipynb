{
 "cells": [
  {
   "cell_type": "markdown",
   "metadata": {},
   "source": [
    "This is a trace simulator. We first start creating a MAX_TOWERS towers in a "
   ]
  },
  {
   "cell_type": "code",
   "execution_count": 22,
   "metadata": {},
   "outputs": [],
   "source": [
    "import random\n",
    "import math"
   ]
  },
  {
   "cell_type": "markdown",
   "metadata": {},
   "source": [
    "Constants"
   ]
  },
  {
   "cell_type": "code",
   "execution_count": 40,
   "metadata": {},
   "outputs": [],
   "source": [
    "NUMBER_OF_TOWERS = 10\n",
    "NUMBER_OF_USERS = 10\n",
    "CYCLES = 24\n"
   ]
  },
  {
   "cell_type": "code",
   "execution_count": 57,
   "metadata": {},
   "outputs": [],
   "source": [
    "def distance(p1, p2):\n",
    "    return math.sqrt(((p1[0]-p2[0])**2)+((p1[1]-p2[1])**2))\n",
    "\n",
    "def get_random_trace():\n",
    "   return [random.choice([i for i in range(NUMBER_OF_TOWERS)]) for _ in range(CYCLES)]\n",
    "\n",
    "def agregate_data(traces):\n",
    "    \"\"\"\n",
    "        returns how many users were in each step \n",
    "    \"\"\"\n",
    "    output = [[0 for _ in range(CYCLES)] for _ in range(MAX_TOWERS)]\n",
    "    for tower in range(NUMBER_OF_TOWERS):\n",
    "        for time in range(CYCLES):\n",
    "            output[tower][time] += traces[tower][time]\n",
    "    return output"
   ]
  },
  {
   "cell_type": "code",
   "execution_count": 42,
   "metadata": {},
   "outputs": [],
   "source": [
    "towers = []\n",
    "for _ in range(NUMBER_OF_TOWERS):\n",
    "    towers.append((random.random(), random.random()))"
   ]
  },
  {
   "cell_type": "code",
   "execution_count": 52,
   "metadata": {},
   "outputs": [],
   "source": [
    "distances = [[distance(towers[i], towers[j]) for j in range(NUMBER_OF_TOWERS)] for i in range(NUMBER_OF_TOWERS)]\n"
   ]
  },
  {
   "cell_type": "markdown",
   "metadata": {},
   "source": [
    "## random probability"
   ]
  },
  {
   "cell_type": "code",
   "execution_count": 59,
   "metadata": {},
   "outputs": [
    {
     "data": {
      "text/plain": [
       "[[1, 0, 9, 9, 8, 0, 0, 4, 4, 6, 8, 7, 2, 5, 8, 4, 9, 1, 6, 1, 3, 0, 0, 0],\n",
       " [2, 4, 9, 6, 3, 0, 5, 1, 3, 1, 5, 6, 1, 4, 5, 8, 2, 3, 1, 3, 9, 8, 7, 8],\n",
       " [8, 1, 2, 9, 6, 8, 0, 9, 3, 3, 4, 1, 0, 4, 7, 6, 2, 1, 0, 9, 8, 8, 8, 5],\n",
       " [3, 7, 0, 7, 7, 3, 9, 3, 5, 6, 2, 2, 5, 9, 0, 5, 2, 5, 9, 0, 9, 7, 6, 1],\n",
       " [9, 5, 1, 4, 5, 0, 9, 3, 5, 4, 6, 1, 5, 1, 1, 7, 7, 6, 5, 5, 0, 8, 2, 1],\n",
       " [3, 1, 2, 2, 0, 4, 6, 8, 4, 5, 2, 9, 5, 2, 2, 7, 4, 0, 7, 2, 8, 4, 3, 8],\n",
       " [6, 2, 2, 0, 4, 5, 5, 8, 9, 8, 2, 6, 2, 6, 9, 2, 8, 7, 1, 1, 9, 5, 6, 9],\n",
       " [3, 8, 4, 6, 5, 9, 6, 7, 6, 9, 5, 0, 5, 8, 3, 2, 5, 1, 8, 6, 7, 8, 0, 6],\n",
       " [6, 5, 5, 2, 0, 7, 1, 6, 8, 8, 9, 3, 2, 3, 5, 7, 9, 7, 6, 0, 3, 1, 4, 8],\n",
       " [6, 7, 9, 6, 8, 3, 7, 1, 8, 9, 4, 6, 9, 8, 2, 6, 6, 9, 3, 3, 5, 1, 1, 4]]"
      ]
     },
     "execution_count": 59,
     "metadata": {},
     "output_type": "execute_result"
    }
   ],
   "source": [
    "random_traces = [get_random_trace() for _ in range(NUMBER_OF_USERS)]\n",
    "agregated_data = agregate_data(random_traces)\n",
    "agregated_data"
   ]
  },
  {
   "cell_type": "markdown",
   "metadata": {},
   "source": [
    "## weigted probability, based only on distance"
   ]
  },
  {
   "cell_type": "raw",
   "metadata": {},
   "source": [
    "\n",
    "\n"
   ]
  }
 ],
 "metadata": {
  "kernelspec": {
   "display_name": "Python 3",
   "language": "python",
   "name": "python3"
  },
  "language_info": {
   "codemirror_mode": {
    "name": "ipython",
    "version": 3
   },
   "file_extension": ".py",
   "mimetype": "text/x-python",
   "name": "python",
   "nbconvert_exporter": "python",
   "pygments_lexer": "ipython3",
   "version": "3.6.4"
  }
 },
 "nbformat": 4,
 "nbformat_minor": 2
}
