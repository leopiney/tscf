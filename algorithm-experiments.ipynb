{
 "cells": [
  {
   "cell_type": "code",
   "execution_count": 1,
   "metadata": {},
   "outputs": [],
   "source": [
    "import itertools\n",
    "import numpy as  np"
   ]
  },
  {
   "cell_type": "code",
   "execution_count": 2,
   "metadata": {},
   "outputs": [],
   "source": [
    "N = 10\n",
    "M = 3\n",
    "\n",
    "towers = np.array(['a', 'b', 'c'])\n",
    "towers_index = {\n",
    "    'a': 0,\n",
    "    'b': 1,\n",
    "    'c': 2\n",
    "}"
   ]
  },
  {
   "cell_type": "markdown",
   "metadata": {},
   "source": [
    "## Towers users per time slot\n",
    "\n",
    "Specifies for each tower the number of users a the moments t0, t1 and t2"
   ]
  },
  {
   "cell_type": "code",
   "execution_count": 3,
   "metadata": {},
   "outputs": [],
   "source": [
    "P = np.array([\n",
    "    [3, 2, 5],  # P_t0\n",
    "    [1, 3, 6],  # P_t1\n",
    "    [4, 2, 4],  # P_t2\n",
    "])"
   ]
  },
  {
   "cell_type": "markdown",
   "metadata": {},
   "source": [
    "## Building distribution matrix\n",
    "\n",
    "Generates the users distribution matrix for each defined time period in P"
   ]
  },
  {
   "cell_type": "code",
   "execution_count": 4,
   "metadata": {},
   "outputs": [
    {
     "data": {
      "text/plain": [
       "[array(['a', 'a', 'a', 'b', 'b', 'c', 'c', 'c', 'c', 'c'], dtype='<U1'),\n",
       " array(['a', 'b', 'b', 'b', 'c', 'c', 'c', 'c', 'c', 'c'], dtype='<U1'),\n",
       " array(['a', 'a', 'a', 'a', 'b', 'b', 'c', 'c', 'c', 'c'], dtype='<U1')]"
      ]
     },
     "execution_count": 4,
     "metadata": {},
     "output_type": "execute_result"
    }
   ],
   "source": [
    "L = []\n",
    "\n",
    "for Pt in P:\n",
    "    L.append(\n",
    "        np.array(list(\n",
    "            itertools.chain(*(\n",
    "                [towers[tower_index]] * count\n",
    "                for tower_index, count in enumerate(Pt)\n",
    "            ))\n",
    "        )\n",
    "    ))\n",
    "\n",
    "L"
   ]
  },
  {
   "cell_type": "markdown",
   "metadata": {},
   "source": [
    "## Build random trajectories\n",
    "\n",
    "Generates the recovered trajectory for the users like a permutation of the users distribution (L) until the time t1"
   ]
  },
  {
   "cell_type": "code",
   "execution_count": 5,
   "metadata": {},
   "outputs": [
    {
     "data": {
      "text/plain": [
       "array([['c', 'b'],\n",
       "       ['b', 'c'],\n",
       "       ['c', 'c'],\n",
       "       ['c', 'b'],\n",
       "       ['a', 'c'],\n",
       "       ['c', 'c'],\n",
       "       ['c', 'c'],\n",
       "       ['a', 'a'],\n",
       "       ['b', 'c'],\n",
       "       ['a', 'b']], dtype='<U1')"
      ]
     },
     "execution_count": 5,
     "metadata": {},
     "output_type": "execute_result"
    }
   ],
   "source": [
    "S_t1 = np.array([\n",
    "    np.random.permutation(Li)\n",
    "    for Li in L[:2]\n",
    "]).T\n",
    "\n",
    "S_t1"
   ]
  },
  {
   "cell_type": "markdown",
   "metadata": {},
   "source": [
    "# Night scenario\n",
    "\n",
    "## Calculate possible next stops for each user\n",
    "\n",
    "Calculate next estimate as the last tower the users were until time t1"
   ]
  },
  {
   "cell_type": "code",
   "execution_count": 6,
   "metadata": {},
   "outputs": [
    {
     "data": {
      "text/plain": [
       "array(['b', 'c', 'c', 'b', 'c', 'c', 'c', 'a', 'c', 'b'], dtype='<U1')"
      ]
     },
     "execution_count": 6,
     "metadata": {},
     "output_type": "execute_result"
    }
   ],
   "source": [
    "L_t2_est = S_t1[:,1]\n",
    "\n",
    "L_t2_est"
   ]
  },
  {
   "cell_type": "markdown",
   "metadata": {},
   "source": [
    "Night probability of users switching between towers"
   ]
  },
  {
   "cell_type": "code",
   "execution_count": 7,
   "metadata": {},
   "outputs": [
    {
     "data": {
      "text/plain": [
       "array([[0.88, 0.04, 0.08],\n",
       "       [0.06, 0.9 , 0.04],\n",
       "       [0.01, 0.09, 0.9 ]])"
      ]
     },
     "execution_count": 7,
     "metadata": {},
     "output_type": "execute_result"
    }
   ],
   "source": [
    "prob_night = np.array([\n",
    "    [0.88, 0.04, 0.08],\n",
    "    [0.06, 0.90, 0.04],\n",
    "    [0.01, 0.09, 0.9],\n",
    "])\n",
    "\n",
    "prob_night"
   ]
  },
  {
   "cell_type": "markdown",
   "metadata": {},
   "source": [
    "Convert tower letters into numbers to later access the prob_night matrix easier"
   ]
  },
  {
   "cell_type": "code",
   "execution_count": 8,
   "metadata": {},
   "outputs": [],
   "source": [
    "L_t2_est_index = [towers_index[t] for t in L_t2_est]\n",
    "L_t2_index = [towers_index[t] for t in L[2]]"
   ]
  },
  {
   "cell_type": "markdown",
   "metadata": {},
   "source": [
    "Estimated tower index for users at time t2 and users distribution for time t2"
   ]
  },
  {
   "cell_type": "code",
   "execution_count": 9,
   "metadata": {},
   "outputs": [
    {
     "data": {
      "text/plain": [
       "[(1, 0),\n",
       " (2, 0),\n",
       " (2, 0),\n",
       " (1, 0),\n",
       " (2, 1),\n",
       " (2, 1),\n",
       " (2, 2),\n",
       " (0, 2),\n",
       " (2, 2),\n",
       " (1, 2)]"
      ]
     },
     "execution_count": 9,
     "metadata": {},
     "output_type": "execute_result"
    }
   ],
   "source": [
    "list(zip(L_t2_est_index, L_t2_index))"
   ]
  },
  {
   "cell_type": "markdown",
   "metadata": {},
   "source": [
    "## Build cost matrix\n",
    "\n",
    "Calculates the cost matrix at t1 as the probability of jumping between towers at night, taking into account the estimated towers for the time t2"
   ]
  },
  {
   "cell_type": "code",
   "execution_count": 10,
   "metadata": {},
   "outputs": [],
   "source": [
    "C_t1 = np.zeros((N, N))"
   ]
  },
  {
   "cell_type": "code",
   "execution_count": 11,
   "metadata": {},
   "outputs": [],
   "source": [
    "for i, l_t2_est in enumerate(L_t2_est_index):\n",
    "    for j, l_t2 in enumerate(L_t2_index):\n",
    "        C_t1[i, j] = prob_night[l_t2_est, l_t2]"
   ]
  },
  {
   "cell_type": "code",
   "execution_count": 12,
   "metadata": {},
   "outputs": [
    {
     "data": {
      "text/plain": [
       "array([[0.06, 0.06, 0.06, 0.06, 0.9 , 0.9 , 0.04, 0.04, 0.04, 0.04],\n",
       "       [0.01, 0.01, 0.01, 0.01, 0.09, 0.09, 0.9 , 0.9 , 0.9 , 0.9 ],\n",
       "       [0.01, 0.01, 0.01, 0.01, 0.09, 0.09, 0.9 , 0.9 , 0.9 , 0.9 ],\n",
       "       [0.06, 0.06, 0.06, 0.06, 0.9 , 0.9 , 0.04, 0.04, 0.04, 0.04],\n",
       "       [0.01, 0.01, 0.01, 0.01, 0.09, 0.09, 0.9 , 0.9 , 0.9 , 0.9 ],\n",
       "       [0.01, 0.01, 0.01, 0.01, 0.09, 0.09, 0.9 , 0.9 , 0.9 , 0.9 ],\n",
       "       [0.01, 0.01, 0.01, 0.01, 0.09, 0.09, 0.9 , 0.9 , 0.9 , 0.9 ],\n",
       "       [0.88, 0.88, 0.88, 0.88, 0.04, 0.04, 0.08, 0.08, 0.08, 0.08],\n",
       "       [0.01, 0.01, 0.01, 0.01, 0.09, 0.09, 0.9 , 0.9 , 0.9 , 0.9 ],\n",
       "       [0.06, 0.06, 0.06, 0.06, 0.9 , 0.9 , 0.04, 0.04, 0.04, 0.04]])"
      ]
     },
     "execution_count": 12,
     "metadata": {},
     "output_type": "execute_result"
    }
   ],
   "source": [
    "C_t1"
   ]
  },
  {
   "cell_type": "code",
   "execution_count": 13,
   "metadata": {},
   "outputs": [
    {
     "data": {
      "text/plain": [
       "[(0, 9),\n",
       " (1, 5),\n",
       " (2, 4),\n",
       " (3, 7),\n",
       " (4, 2),\n",
       " (5, 3),\n",
       " (6, 1),\n",
       " (7, 6),\n",
       " (8, 0),\n",
       " (9, 8)]"
      ]
     },
     "execution_count": 13,
     "metadata": {},
     "output_type": "execute_result"
    }
   ],
   "source": [
    "from scipy.optimize import linear_sum_assignment\n",
    "\n",
    "# Ref: https://docs.scipy.org/doc/scipy-0.18.1/reference/generated/scipy.optimize.linear_sum_assignment.html\n",
    "row_ind, col_ind = linear_sum_assignment(C_t1)\n",
    "\n",
    "list(zip(row_ind, col_ind))"
   ]
  },
  {
   "cell_type": "markdown",
   "metadata": {},
   "source": [
    "# Daylight scenario\n",
    "\n",
    "Try building a cost matrix using the daylight probabilities specifications"
   ]
  },
  {
   "cell_type": "code",
   "execution_count": null,
   "metadata": {},
   "outputs": [],
   "source": []
  }
 ],
 "metadata": {
  "kernelspec": {
   "display_name": "Python 3",
   "language": "python",
   "name": "python3"
  },
  "language_info": {
   "codemirror_mode": {
    "name": "ipython",
    "version": 3
   },
   "file_extension": ".py",
   "mimetype": "text/x-python",
   "name": "python",
   "nbconvert_exporter": "python",
   "pygments_lexer": "ipython3",
   "version": "3.6.0"
  }
 },
 "nbformat": 4,
 "nbformat_minor": 2
}
