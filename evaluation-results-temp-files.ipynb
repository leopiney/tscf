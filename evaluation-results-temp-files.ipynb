{
 "cells": [
  {
   "cell_type": "code",
   "execution_count": 41,
   "metadata": {},
   "outputs": [],
   "source": [
    "import numpy as np\n",
    "import pandas as pd\n",
    "\n",
    "import pickle\n",
    "\n",
    "from glob import glob\n",
    "import matplotlib.pyplot as plt"
   ]
  },
  {
   "cell_type": "code",
   "execution_count": 146,
   "metadata": {},
   "outputs": [],
   "source": [
    "#\n",
    "# The analysis information is stored as a list with the following items:\n",
    "#\n",
    "# [\n",
    "#  [\n",
    "#     map_results,\n",
    "#     global_accuracy,\n",
    "#     map_accuracy,\n",
    "#     map_error,   \n",
    "#   ],\n",
    "#   towers,\n",
    "#   traces,\n",
    "#   aggregated_data,\n",
    "# ]\n",
    "#\n",
    "for tmp in list(glob('./evaluate/.tmp*')[:1]):\n",
    "    pass\n",
    "#     analysis = pickle.load(open(tmp, 'rb'))\n",
    "\n",
    "analysis = pickle.load(open('./evaluate/.tmp_eval_m_random_direction_u_576_t_16_v_(0.01, 0.01).pkl', 'rb'))"
   ]
  },
  {
   "cell_type": "code",
   "execution_count": 147,
   "metadata": {},
   "outputs": [],
   "source": [
    "import seaborn as sns"
   ]
  },
  {
   "cell_type": "code",
   "execution_count": 153,
   "metadata": {},
   "outputs": [
    {
     "name": "stderr",
     "output_type": "stream",
     "text": [
      "/Users/leo/Documents/tscf/.env/lib/python3.6/site-packages/matplotlib/axes/_axes.py:6462: UserWarning: The 'normed' kwarg is deprecated, and has been replaced by the 'density' kwarg.\n",
      "  warnings.warn(\"The 'normed' kwarg is deprecated, and has been \"\n"
     ]
    },
    {
     "data": {
      "image/png": "[encoded data removed]",
      "text/plain": [
       "<Figure size 432x288 with 1 Axes>"
      ]
     },
     "metadata": {},
     "output_type": "display_data"
    }
   ],
   "source": [
    "map_accuracy_results = np.concatenate([analysis[i][2] / 24 for i in range(0, 10)])\n",
    "ax = sns.distplot(\n",
    "    pd.Series(map_accuracy_results),\n",
    "    bins=np.arange(0, 1.01, 0.05)\n",
    ")\n",
    "ax.set(xlim=(0, 1));"
   ]
  },
  {
   "cell_type": "code",
   "execution_count": 154,
   "metadata": {},
   "outputs": [
    {
     "data": {
      "text/plain": [
       "count    5760.000000\n",
       "mean        0.753284\n",
       "std         0.231325\n",
       "min         0.000000\n",
       "25%         0.583333\n",
       "50%         0.791667\n",
       "75%         1.000000\n",
       "max         1.000000\n",
       "dtype: float64"
      ]
     },
     "execution_count": 154,
     "metadata": {},
     "output_type": "execute_result"
    }
   ],
   "source": [
    "pd.Series(np.concatenate([analysis[i][2] / 24 for i in range(0, 10)])).describe()"
   ]
  },
  {
   "cell_type": "code",
   "execution_count": 155,
   "metadata": {},
   "outputs": [
    {
     "name": "stderr",
     "output_type": "stream",
     "text": [
      "/Users/leo/Documents/tscf/.env/lib/python3.6/site-packages/matplotlib/axes/_axes.py:6462: UserWarning: The 'normed' kwarg is deprecated, and has been replaced by the 'density' kwarg.\n",
      "  warnings.warn(\"The 'normed' kwarg is deprecated, and has been \"\n"
     ]
    },
    {
     "data": {
      "text/plain": [
       "1.8802083333333333"
      ]
     },
     "execution_count": 155,
     "metadata": {},
     "output_type": "execute_result"
    },
    {
     "data": {
      "image/png": "[encoded data removed]",
      "text/plain": [
       "<Figure size 432x288 with 1 Axes>"
      ]
     },
     "metadata": {},
     "output_type": "display_data"
    }
   ],
   "source": [
    "unique_visited_towers = np.array([len(np.unique(trace)) for trace in analysis[11]])\n",
    "ax = sns.distplot(\n",
    "    unique_visited_towers,\n",
    "    kde=False,\n",
    ")\n",
    "unique_visited_towers.mean()"
   ]
  },
  {
   "cell_type": "code",
   "execution_count": null,
   "metadata": {},
   "outputs": [],
   "source": []
  },
  {
   "cell_type": "code",
   "execution_count": null,
   "metadata": {},
   "outputs": [],
   "source": []
  }
 ],
 "metadata": {
  "kernelspec": {
   "display_name": "Python 3",
   "language": "python",
   "name": "python3"
  },
  "language_info": {
   "codemirror_mode": {
    "name": "ipython",
    "version": 3
   },
   "file_extension": ".py",
   "mimetype": "text/x-python",
   "name": "python",
   "nbconvert_exporter": "python",
   "pygments_lexer": "ipython3",
   "version": "3.6.0"
  }
 },
 "nbformat": 4,
 "nbformat_minor": 2
}
